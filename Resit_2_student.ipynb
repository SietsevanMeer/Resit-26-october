{
 "cells": [
  {
   "cell_type": "markdown",
   "metadata": {},
   "source": [
    "# Exam R\n",
    "Mark Klik & Misja Mikkers\n",
    "\n",
    "# Introduction\n",
    "\n",
    "Before you turn this problem in, make sure everything runs as expected. First, **restart the kernel** (in the menubar, select Kernel$\\rightarrow$Restart) and then **run all cells** (in the menubar, select Cell$\\rightarrow$Run All).\n",
    "\n",
    "Make sure you fill in any place that says `YOUR CODE HERE` or \"YOUR ANSWER HERE\", as well as your name and collaborators below:\n"
   ]
  },
  {
   "cell_type": "code",
   "execution_count": 9,
   "metadata": {},
   "outputs": [],
   "source": [
    "NAME = \"Sietse van Meer #2010263\"\n",
    "COLLABORATORS = \"\""
   ]
  },
  {
   "cell_type": "markdown",
   "metadata": {},
   "source": [
    "Fill in the cell above to provide us with your name and student number, like\n",
    "\n",
    "NAME = \"Adam Smith, #student number#\"\n",
    "\n",
    "where you replace \"#student number#\" with your ... (very good!)\n",
    "\n",
    "Unfortunately, you are not allowed to work with \"COLLABORATORS\" in this exam.\n",
    "\n",
    "## exam October 26th, 2018\n",
    "\n",
    "With this R part of the exam you can earn at max. 4 points.\n",
    "\n",
    "In the first cell of the notebook, give us your name and student number in the way indicated above.\n",
    "\n",
    "Fill in the notebook (see below for code cells and text cells that you need to fill in).\n",
    "\n",
    "If you look at the menus above (File, Edit, View etc.), there is one called \"Cell\". If you click on this, you can change the \"Cell Type\". Choose \"Code\" when you are typing python or R code. Choose \"Markdown\" when you are typing, well, markdown.\n",
    "\n",
    "When you finish the notebook, make sure that you save it with the output of your code included.\n",
    "\n",
    "Then put it on github, e.g. by dragging it onto github (see instructions below).\n",
    "\n",
    "Finally, add a link to your README file with the name of this exam: \"Exam R September 7, 2018\".\n",
    "\n",
    "# Packages\n",
    "\n",
    "You will need the following packages for this exam."
   ]
  },
  {
   "cell_type": "code",
   "execution_count": 70,
   "metadata": {},
   "outputs": [],
   "source": [
    "library(tidyverse)"
   ]
  },
  {
   "cell_type": "markdown",
   "metadata": {},
   "source": [
    "# Assignment 1\n",
    "\n",
    "## Data\n",
    "\n",
    "Please read in \"resit.csv\" and check the structure.\n",
    "\n",
    "If needed change the variables e and x1 into a numeric variable.\n",
    "\n",
    "Hint: don't forget you cannot change a factor in a numeric variable directly!\n"
   ]
  },
  {
   "cell_type": "code",
   "execution_count": 71,
   "metadata": {},
   "outputs": [],
   "source": [
    "dataframe<- read.csv2(\"../Sourcedata/resit.csv\")"
   ]
  },
  {
   "cell_type": "markdown",
   "metadata": {},
   "source": [
    "# Data manipulation\n",
    "\n",
    "We will construct the variable \"y\". You have to create the variable \"y\" with the formula:\n",
    "\n",
    "$$ 10 + 3*x1 + e $$\n",
    "\n",
    "Show the head of your data"
   ]
  },
  {
   "cell_type": "code",
   "execution_count": 72,
   "metadata": {},
   "outputs": [
    {
     "data": {
      "text/html": [
       "<table>\n",
       "<thead><tr><th scope=col>Obs</th><th scope=col>e</th><th scope=col>x1</th></tr></thead>\n",
       "<tbody>\n",
       "\t<tr><td> 58.90879</td><td>104.9165 </td><td> 58.20914</td></tr>\n",
       "\t<tr><td>141.03688</td><td>197.9058 </td><td>162.42620</td></tr>\n",
       "\t<tr><td> 96.77057</td><td>149.3454 </td><td>103.16914</td></tr>\n",
       "\t<tr><td> 81.26664</td><td>128.8096 </td><td> 82.50786</td></tr>\n",
       "\t<tr><td> 78.12062</td><td>122.3522 </td><td> 77.75030</td></tr>\n",
       "\t<tr><td>132.37371</td><td>177.7539 </td><td>148.03823</td></tr>\n",
       "</tbody>\n",
       "</table>\n"
      ],
      "text/latex": [
       "\\begin{tabular}{r|lll}\n",
       " Obs & e & x1\\\\\n",
       "\\hline\n",
       "\t  58.90879 & 104.9165  &  58.20914\\\\\n",
       "\t 141.03688 & 197.9058  & 162.42620\\\\\n",
       "\t  96.77057 & 149.3454  & 103.16914\\\\\n",
       "\t  81.26664 & 128.8096  &  82.50786\\\\\n",
       "\t  78.12062 & 122.3522  &  77.75030\\\\\n",
       "\t 132.37371 & 177.7539  & 148.03823\\\\\n",
       "\\end{tabular}\n"
      ],
      "text/markdown": [
       "\n",
       "Obs | e | x1 | \n",
       "|---|---|---|---|---|---|\n",
       "|  58.90879 | 104.9165  |  58.20914 | \n",
       "| 141.03688 | 197.9058  | 162.42620 | \n",
       "|  96.77057 | 149.3454  | 103.16914 | \n",
       "|  81.26664 | 128.8096  |  82.50786 | \n",
       "|  78.12062 | 122.3522  |  77.75030 | \n",
       "| 132.37371 | 177.7539  | 148.03823 | \n",
       "\n",
       "\n"
      ],
      "text/plain": [
       "  Obs       e        x1       \n",
       "1  58.90879 104.9165  58.20914\n",
       "2 141.03688 197.9058 162.42620\n",
       "3  96.77057 149.3454 103.16914\n",
       "4  81.26664 128.8096  82.50786\n",
       "5  78.12062 122.3522  77.75030\n",
       "6 132.37371 177.7539 148.03823"
      ]
     },
     "metadata": {},
     "output_type": "display_data"
    }
   ],
   "source": [
    "#We have to add Y to our table\n",
    "y<- 10+3*dataframe$x1+dataframe$e\n",
    "dataframe1<-dataframe + y\n",
    "head(dataframe1)"
   ]
  },
  {
   "cell_type": "markdown",
   "metadata": {},
   "source": [
    "## Regression \n",
    "\n",
    "You will now have to run a regression with y as a function of x1. Show the summary statistics."
   ]
  },
  {
   "cell_type": "code",
   "execution_count": 73,
   "metadata": {},
   "outputs": [
    {
     "data": {
      "text/plain": [
       "\n",
       "Call:\n",
       "lm(formula = x1 ~ e, data = dataframe)\n",
       "\n",
       "Residuals:\n",
       "     Min       1Q   Median       3Q      Max \n",
       "-19.0086  -8.1575   0.7989   7.9075  15.5870 \n",
       "\n",
       "Coefficients:\n",
       "            Estimate Std. Error t value Pr(>|t|)  \n",
       "(Intercept)  -0.6312    10.1840  -0.062   0.9507  \n",
       "e             0.3496     0.2024   1.727   0.0873 .\n",
       "---\n",
       "Signif. codes:  0 '***' 0.001 '**' 0.01 '*' 0.05 '.' 0.1 ' ' 1\n",
       "\n",
       "Residual standard error: 9.368 on 98 degrees of freedom\n",
       "Multiple R-squared:  0.02955,\tAdjusted R-squared:  0.01964 \n",
       "F-statistic: 2.984 on 1 and 98 DF,  p-value: 0.08726\n"
      ]
     },
     "metadata": {},
     "output_type": "display_data"
    }
   ],
   "source": [
    "regression <- lm(data=dataframe, x1 ~ e)\n",
    "summary(regression)"
   ]
  },
  {
   "cell_type": "markdown",
   "metadata": {},
   "source": [
    "## Plot\n",
    "\n",
    "Now you have to make a scatter plot of the data:\n",
    "\n",
    "* with x1 on the x-axis\n",
    "* y on the y-axis\n",
    "* the regression line in green, with confidence interval\n",
    "* in a light theme"
   ]
  },
  {
   "cell_type": "code",
   "execution_count": 97,
   "metadata": {
    "scrolled": false
   },
   "outputs": [
    {
     "data": {},
     "metadata": {},
     "output_type": "display_data"
    },
    {
     "data": {
      "image/png": "[encoded data removed]",
      "text/plain": [
       "plot without title"
      ]
     },
     "metadata": {},
     "output_type": "display_data"
    },
    {
     "data": {
      "image/png": "[encoded data removed]",
      "text/plain": [
       "plot without title"
      ]
     },
     "metadata": {},
     "output_type": "display_data"
    }
   ],
   "source": [
    "library(ggplot2)\n",
    "ggplot(data=dataframe, aes(x=x1, y=y)) +\n",
    "  geom_point()\n",
    "plot(y ~ dataframe$x1)\n",
    "abline(lm(y~dataframe$x1))"
   ]
  },
  {
   "cell_type": "code",
   "execution_count": null,
   "metadata": {},
   "outputs": [],
   "source": []
  }
 ],
 "metadata": {
  "kernelspec": {
   "display_name": "R",
   "language": "R",
   "name": "ir"
  },
  "language_info": {
   "codemirror_mode": "r",
   "file_extension": ".r",
   "mimetype": "text/x-r-source",
   "name": "R",
   "pygments_lexer": "r",
   "version": "3.4.3"
  }
 },
 "nbformat": 4,
 "nbformat_minor": 2
}
